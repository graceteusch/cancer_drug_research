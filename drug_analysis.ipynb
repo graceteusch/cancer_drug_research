{
 "cells": [
  {
   "cell_type": "code",
   "execution_count": 1,
   "metadata": {},
   "outputs": [
    {
     "name": "stdout",
     "output_type": "stream",
     "text": [
      "BET inhibitor: ['(+)-JQ-1', 'Bromosporine', 'Molibresib', 'Apabetalone']\n",
      "Chemo drug: ['5-Azacytidine', 'Decitabine', \"5-Fluoro-2'-deoxycytidine\", 'Gemcitabine', 'Methotrexate', 'Actinomycin D', '5-Fluorouracil', 'Pemetrexed', 'Cisplatin', 'Carboplatin', 'Oxaliplatin', 'Doxorubicin', 'Cyclophosphamide']\n",
      "E3 ligase ligands: ['VHL ligand 1', 'Nutlin-3', 'Serdemetan', 'VH298']\n",
      "HDAC inhibitor: ['Entinostat', 'Mocetinostat', 'Romidepsin', 'Tacedinaline', 'Tucidinostat', 'Domatinostat', 'Pracinostat', 'Quisinostat', 'Vorinostat', 'AR-42', 'Belinostat', 'Citarinostat', 'Fimepinostat', 'Ricolinostat', 'Panobinostat', 'Givinostat', 'Tasquinimod', 'Nexturastat A', 'ACY738', 'Tubastatin A', 'Trichostatin-A', 'PCI-34051', 'ACY775', 'CHDI00465983', 'CHDI00390576', 'TMP195', 'TMP269', 'LMK235']\n",
      "HSP90 inhibitor: ['Geldanamycin', 'Tanespimycin']\n",
      "Hormone-like: ['Prednisone']\n",
      "IMiD: ['Thalidomide', 'Iberdomide', 'Lenalidomide', 'Pomalidomide']\n",
      "Immunosuppressor: ['Cyclosporin A ']\n",
      "Kinase inhibitor: ['AZD-6482', 'AZD-8186', 'Copanlisib', 'Dactolisib', 'BGT-226', 'Buparlisib', 'Alpelisib', 'Idelalisib', 'Apitolisib', 'GSK-1059615', 'Omipalisib', 'GSK-2636771', 'PF-04691502', 'TG-100-115', 'Pilaralisib', 'Voxtalisib', 'AZD-8055', 'Onatasertib', 'Everolimus', 'GDC-0349', 'Rapamycin', 'Temsirolimus', 'AZD-5438', 'SNS-032', 'Seliciclib', 'HMN-214', 'Alvocidib', 'Ribociclib', 'Rigosertib', 'Riviciclib', 'Palbociclib', 'PHA-793887', 'Milciclib', 'R-547', 'RGB-286638', 'Dinaciclib', 'Zotiraciclib', 'Cerdulatinib', 'Fostamatinib (Free Base)', 'Fostamatinib', 'TAK-659', 'Abemaciclib', 'Brigatinib', 'Crizotinib', 'Dabrafenib', 'Dasatinib', 'Nintedanib', 'Sunitinib', 'Staurosporine', 'Tofacitinib', 'Decernotinib', 'Baricitinib', 'Binimetinib', 'Selumetinib', 'Ravoxertinib', 'Trametinib', 'Ulixertinib', 'AMG-900', 'MK-5108', 'MLN-8054', 'SNS-314']\n",
      "MAOi: ['Tranylcypromine']\n",
      "Methyltransferase inhibitor: ['GSK2879552', 'Iadademstat', 'Pinometostat', 'Tazemetostat', 'Pemrametostat', 'Lirametostat', 'Onametostat']\n",
      "Mitotic inhibitor: ['Paclitaxel', 'CHM-1', 'Nocodazole', 'Colchicine', 'Vincristine']\n",
      "NFAT activation inhibitor: ['NFAT activation inhibitor III']\n",
      "PARP inhibitor: ['PJ34', 'Olaparib', 'Talazoparib', 'Rucaparib', 'Niraparib', 'Veliparib']\n",
      "Proteasome inhibitor: ['Ixazomib', 'MG-132', 'Carfilzomib', 'Bortezomib']\n",
      "SIRT inhibitor: ['Selisistat', 'SRT2104']\n"
     ]
    }
   ],
   "source": [
    "# group drugs according to their type/target\n",
    "import pandas as pd\n",
    "\n",
    "#read in supplementary table\n",
    "drugInfo = pd.read_csv(\"Drug_Info_Supp_Table.csv\")\n",
    "\n",
    "#group by drug type and turn into dictionary\n",
    "drugTypes = drugInfo.groupby(\"Type\")[\"Drug\"].apply(list).to_dict()\n",
    "\n",
    "#print dictionary\n",
    "for type, drugs in drugTypes.items():\n",
    "    print(f\"{type}: {drugs}\")\n"
   ]
  },
  {
   "cell_type": "code",
   "execution_count": null,
   "metadata": {},
   "outputs": [],
   "source": [
    "# loop through the dictionary\n",
    "for type, drugNames in drugTypes.items():\n",
    "    # for each key (drug type), go through each of the drugs\n",
    "    for drug in drugNames:\n",
    "        # make a string with the drug name + _ALL.txt (or whatever the format is)\n",
    "        fileName = f\"{drug}_ALL.txt\"\n",
    "        # use ftp to download that file from massive (is this possible?? or only thru command line?)\n",
    "        \n",
    "    \n",
    "    # start with just 1 drug type and try to combine them all (see code below) "
   ]
  },
  {
   "cell_type": "code",
   "execution_count": null,
   "metadata": {},
   "outputs": [
    {
     "name": "stdout",
     "output_type": "stream",
     "text": [
      "/\n"
     ]
    }
   ],
   "source": [
    "from ftplib import FTP\n",
    "\n",
    "ftp = FTP(\"massive-ftp.ucsd.edu\")\n",
    "ftp.login()\n",
    "\n",
    "\n"
   ]
  },
  {
   "cell_type": "code",
   "execution_count": null,
   "metadata": {},
   "outputs": [],
   "source": [
    "# combining tables for just 2 drugs (SIRT inhibitors)\n",
    "\n",
    "selis = pd.read_csv(\"Selisistat_ALL.txt\", delimiter = \"\\t\")\n",
    "srt = pd.read_csv(\"SRT2104_ALL.txt\", delimiter = \"\\t\")\n",
    "\n"
   ]
  },
  {
   "cell_type": "code",
   "execution_count": null,
   "metadata": {},
   "outputs": [],
   "source": []
  }
 ],
 "metadata": {
  "kernelspec": {
   "display_name": ".venv",
   "language": "python",
   "name": "python3"
  },
  "language_info": {
   "codemirror_mode": {
    "name": "ipython",
    "version": 3
   },
   "file_extension": ".py",
   "mimetype": "text/x-python",
   "name": "python",
   "nbconvert_exporter": "python",
   "pygments_lexer": "ipython3",
   "version": "3.9.6"
  }
 },
 "nbformat": 4,
 "nbformat_minor": 2
}
